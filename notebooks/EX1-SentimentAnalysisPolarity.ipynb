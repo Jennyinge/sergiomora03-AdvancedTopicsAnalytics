{
  "cells": [
    {
      "cell_type": "markdown",
      "metadata": {
        "id": "view-in-github",
        "colab_type": "text"
      },
      "source": [
        "<a href=\"https://colab.research.google.com/github/sergiomora03/AdvancedTopicsAnalytics/blob/main/notebooks/SentimentAnalysisPolarity.ipynb\" target=\"_parent\"><img src=\"https://colab.research.google.com/assets/colab-badge.svg\" alt=\"Open In Colab\"/></a>"
      ]
    },
    {
      "cell_type": "markdown",
      "metadata": {
        "id": "aYjtnkWINc2Y"
      },
      "source": [
        "## Sentiment Analysis - Polarity\n",
        "\n",
        "In this notebook we demonstrate a basic text classifier using [Textblob.](https://textblob.readthedocs.io/en/dev/) ."
      ]
    },
    {
      "cell_type": "code",
      "execution_count": 1,
      "metadata": {
        "colab": {
          "base_uri": "https://localhost:8080/"
        },
        "id": "spAkPPa0LJme",
        "outputId": "e879fe5f-b138-4878-fb98-44351062f68c"
      },
      "outputs": [
        {
          "output_type": "stream",
          "name": "stderr",
          "text": [
            "<ipython-input-1-38875de84a3e>:4: FutureWarning: The error_bad_lines argument has been deprecated and will be removed in a future version. Use on_bad_lines in the future.\n",
            "\n",
            "\n",
            "  df = pd.read_csv(\"https://raw.githubusercontent.com/sergiomora03/AdvancedTopicsAnalytics/main/datasets/sts_gold_tweet.csv\",error_bad_lines=False,delimiter=\";\")\n"
          ]
        },
        {
          "output_type": "stream",
          "name": "stdout",
          "text": [
            "Index(['id', 'polarity', 'tweet'], dtype='object')\n"
          ]
        }
      ],
      "source": [
        "# Load the dataset.\n",
        "\n",
        "import pandas as pd\n",
        "df = pd.read_csv(\"https://raw.githubusercontent.com/sergiomora03/AdvancedTopicsAnalytics/main/datasets/sts_gold_tweet.csv\",error_bad_lines=False,delimiter=\";\")\n",
        "print(df.columns)\n",
        "\n",
        "# Make a list of all the tweets.\n",
        "\n",
        "tweets_text_collection = list(df['tweet'])"
      ]
    },
    {
      "cell_type": "code",
      "execution_count": 2,
      "metadata": {
        "colab": {
          "base_uri": "https://localhost:8080/"
        },
        "id": "mBPraZ2FLnX7",
        "outputId": "5db4f1d4-7be1-4511-862a-6475f44a30bf"
      },
      "outputs": [
        {
          "output_type": "stream",
          "name": "stdout",
          "text": [
            "Requirement already satisfied: textblob in /usr/local/lib/python3.10/dist-packages (0.17.1)\n",
            "Requirement already satisfied: nltk>=3.1 in /usr/local/lib/python3.10/dist-packages (from textblob) (3.8.1)\n",
            "Requirement already satisfied: click in /usr/local/lib/python3.10/dist-packages (from nltk>=3.1->textblob) (8.1.7)\n",
            "Requirement already satisfied: joblib in /usr/local/lib/python3.10/dist-packages (from nltk>=3.1->textblob) (1.3.2)\n",
            "Requirement already satisfied: regex>=2021.8.3 in /usr/local/lib/python3.10/dist-packages (from nltk>=3.1->textblob) (2023.6.3)\n",
            "Requirement already satisfied: tqdm in /usr/local/lib/python3.10/dist-packages (from nltk>=3.1->textblob) (4.66.1)\n",
            "the angel is going to miss the athlete this weekend \n",
            "Sentiment(polarity=0.0, subjectivity=0.0)\n",
            "--------------------\n",
            "It looks as though Shaq is getting traded to Cleveland to play w/ LeBron... Too bad for Suns' fans. The Big Cactus is no more \n",
            "Sentiment(polarity=-0.3166666666666666, subjectivity=0.4222222222222222)\n",
            "--------------------\n",
            "@clarianne APRIL 9TH ISN'T COMING SOON ENOUGH \n",
            "Sentiment(polarity=0.0, subjectivity=0.5)\n",
            "--------------------\n",
            "drinking a McDonalds coffee and not understanding why someone would hurt me for no apparent reason. \n",
            "Sentiment(polarity=-0.025, subjectivity=0.35)\n",
            "--------------------\n",
            "So dissapointed Taylor Swift doesnt have a Twitter \n",
            "Sentiment(polarity=0.0, subjectivity=0.0)\n",
            "--------------------\n",
            "Wishes I was on the Spring Fling Tour with Dawn &amp; neecee Sigh  G'knight\n",
            "Sentiment(polarity=0.0, subjectivity=0.0)\n",
            "--------------------\n",
            "got a sniffle, got the kids and hubby just left to work in Sydney for the weekend, boo hoo \n",
            "Sentiment(polarity=0.0, subjectivity=0.0)\n",
            "--------------------\n",
            "i've only been in sydney for 3 hrs but I miss my friends  especially @ktjade!!!\n",
            "Sentiment(polarity=0.0, subjectivity=1.0)\n",
            "--------------------\n",
            "xboxtweet not working again \n",
            "Sentiment(polarity=0.0, subjectivity=0.0)\n",
            "--------------------\n",
            "R.I.P to lebron/kobe puppet commercials... \n",
            "Sentiment(polarity=0.0, subjectivity=0.0)\n",
            "--------------------\n",
            "Allergies sucks sometimes. Theres a super adorable 9 month old beagle named Sydney hanging out with my roomie and his friend. Can't pet. \n",
            "Sentiment(polarity=0.15833333333333333, subjectivity=0.5416666666666666)\n",
            "--------------------\n",
            "has a broken iphone \n",
            "Sentiment(polarity=-0.4, subjectivity=0.4)\n",
            "--------------------\n",
            "Line at McDonalds was too long so I can't get my sausage biscuit on \n",
            "Sentiment(polarity=-0.05, subjectivity=0.4)\n",
            "--------------------\n",
            "@stephnewby there is a virus going around  congestion, throw up, &amp; high fever\n",
            "Sentiment(polarity=0.16, subjectivity=0.5399999999999999)\n",
            "--------------------\n",
            "I scratched my iPod \n",
            "Sentiment(polarity=0.0, subjectivity=0.0)\n",
            "--------------------\n",
            "I don't understand... I really don't \n",
            "Sentiment(polarity=0.2, subjectivity=0.2)\n",
            "--------------------\n",
            "@Rove1974 @Pink is our hero too! Love her! Wanna go see her in Brisvegas again but sadly my bank balance wont let me \n",
            "Sentiment(polarity=0.0, subjectivity=0.6333333333333333)\n",
            "--------------------\n",
            "I hate the fact that I'm genuinely excited about my last tweet \n",
            "Sentiment(polarity=-0.1416666666666667, subjectivity=0.5722222222222222)\n",
            "--------------------\n",
            "Tula's sick! Nausious, Nasal congestion, headache, bodyaches and my nose is running a marathon. Theraflu please help \n",
            "Sentiment(polarity=-0.8928571428571429, subjectivity=0.8571428571428571)\n",
            "--------------------\n",
            "Hayfever time  not good!\n",
            "Sentiment(polarity=-0.4375, subjectivity=0.6000000000000001)\n",
            "--------------------\n"
          ]
        }
      ],
      "source": [
        "!pip install textblob\n",
        "from textblob import TextBlob\n",
        "\n",
        "for i, tweet_text in zip(range(20), tweets_text_collection):\n",
        "\n",
        "    print(tweet_text)\n",
        "    analysis = TextBlob(tweet_text)\n",
        "\n",
        "    # Analyse the sentiment.\n",
        "\n",
        "    print(analysis.sentiment)\n",
        "\n",
        "    # Polarity is a value between [-1.0, 1.0] and tells how positive or negative the text is.\n",
        "    # Subjectivity is within the range [0.0, 1.0] where 0.0 is very objective and 1.0 is very subjective.\n",
        "\n",
        "    print(\"-\"*20)"
      ]
    },
    {
      "cell_type": "markdown",
      "metadata": {
        "id": "Hmq64mfYO0NQ"
      },
      "source": [
        "There are many more features in textblob you can refer the official documentation for them."
      ]
    }
  ],
  "metadata": {
    "colab": {
      "provenance": [],
      "include_colab_link": true
    },
    "kernelspec": {
      "display_name": "Python 3",
      "language": "python",
      "name": "python3"
    },
    "language_info": {
      "codemirror_mode": {
        "name": "ipython",
        "version": 3
      },
      "file_extension": ".py",
      "mimetype": "text/x-python",
      "name": "python",
      "nbconvert_exporter": "python",
      "pygments_lexer": "ipython3",
      "version": "3.7.4"
    }
  },
  "nbformat": 4,
  "nbformat_minor": 0
}
