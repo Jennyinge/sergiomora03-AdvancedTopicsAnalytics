{
  "cells": [
    {
      "cell_type": "markdown",
      "metadata": {
        "id": "view-in-github",
        "colab_type": "text"
      },
      "source": [
        "<a href=\"https://colab.research.google.com/github/sergiomora03/AdvancedTopicsAnalytics/blob/main/notebooks/L12-DeepLearning_keras.ipynb\" target=\"_parent\"><img src=\"https://colab.research.google.com/assets/colab-badge.svg\" alt=\"Open In Colab\"/></a>"
      ]
    },
    {
      "cell_type": "markdown",
      "metadata": {
        "id": "s34qXtLm2Iaq"
      },
      "source": [
        "## Deep Learning using keras\n",
        "\n",
        "This notebook is licensed under a [Creative Commons Attribution-ShareAlike 3.0 Unported License](http://creativecommons.org/licenses/by-sa/3.0/deed.en_US). Special thanks goes to [Valerio Maggio](https://mpba.fbk.eu), Fondazione Bruno Kessler, [Alejandro Correa Bahnsen](albahnsen.com/) and [Jesus Solano](https://github.com/jesugome)"
      ]
    },
    {
      "cell_type": "markdown",
      "metadata": {
        "id": "5EUbgL9X2Ias"
      },
      "source": [
        "<img src=\"https://raw.githubusercontent.com/sergiomora03/AdvancedMethodsDataAnalysisClass/68b4cc50f2cba5e389d7fa75afe7a5e658c38086/notebooks/images/keras-logo-small.jpg\" width=\"20%\" />\n",
        "\n",
        "## Keras: Deep Learning library for Theano and TensorFlow"
      ]
    },
    {
      "cell_type": "markdown",
      "metadata": {
        "id": "7UOCK2ub2Iat"
      },
      "source": [
        ">Keras is a minimalist, highly modular neural networks library, written in Python and capable of running on top of either TensorFlow or Theano.\n",
        "\n",
        ">It was developed with a focus on enabling fast experimentation. Being able to go from idea to result with the least possible delay is key to doing good research.\n",
        "ref: https://keras.io/"
      ]
    },
    {
      "cell_type": "markdown",
      "metadata": {
        "id": "ityBwm4h2Iat"
      },
      "source": [
        "### SMS Spam Collection Data"
      ]
    },
    {
      "cell_type": "markdown",
      "metadata": {
        "id": "5QbzoPeg2Iav"
      },
      "source": [
        "##### For this section we will use the SMS Spam Collection. This is a set of SMS tagged messages that have been collected for SMS Spam research. It contains one set of SMS messages in English of 5,574 messages, tagged acording being ham (legitimate) or spam."
      ]
    },
    {
      "cell_type": "markdown",
      "metadata": {
        "id": "m00b6GCi2Iav"
      },
      "source": [
        "# Single Layer Neural Network\n"
      ]
    },
    {
      "cell_type": "markdown",
      "metadata": {
        "id": "pzTGGaR_2Iav"
      },
      "source": [
        "## Data Preparation"
      ]
    },
    {
      "cell_type": "code",
      "source": [
        "!pip install wget\n",
        "!pip install livelossplot --quiet"
      ],
      "metadata": {
        "colab": {
          "base_uri": "https://localhost:8080/"
        },
        "id": "iLIBHBIgB_NF",
        "outputId": "52ed0437-876a-4399-a66f-9d4cb5302034"
      },
      "execution_count": null,
      "outputs": [
        {
          "output_type": "stream",
          "name": "stdout",
          "text": [
            "Requirement already satisfied: wget in /usr/local/lib/python3.10/dist-packages (3.2)\n"
          ]
        }
      ]
    },
    {
      "cell_type": "code",
      "execution_count": null,
      "metadata": {
        "colab": {
          "base_uri": "https://localhost:8080/"
        },
        "id": "cODsyqau2Iaw",
        "outputId": "ec4b2940-1f8a-4e48-86ac-70e4983c7b19"
      },
      "outputs": [
        {
          "output_type": "stream",
          "name": "stderr",
          "text": [
            "[nltk_data] Downloading package stopwords to /root/nltk_data...\n",
            "[nltk_data]   Package stopwords is already up-to-date!\n",
            "[nltk_data] Downloading package punkt to /root/nltk_data...\n",
            "[nltk_data]   Package punkt is already up-to-date!\n"
          ]
        },
        {
          "output_type": "execute_result",
          "data": {
            "text/plain": [
              "True"
            ]
          },
          "metadata": {},
          "execution_count": 28
        }
      ],
      "source": [
        "import pandas as pd\n",
        "import numpy as np\n",
        "import wget\n",
        "import os\n",
        "from zipfile import ZipFile\n",
        "\n",
        "from nltk.corpus import stopwords\n",
        "from nltk.tokenize import word_tokenize\n",
        "import nltk\n",
        "import string\n",
        "\n",
        "from sklearn.model_selection import train_test_split\n",
        "\n",
        "from keras import backend as K\n",
        "from keras.models import Sequential\n",
        "from keras.layers import LSTM\n",
        "from keras.layers.core import Dense, Dropout\n",
        "from keras.layers import Embedding\n",
        "from keras.utils import pad_sequences\n",
        "from livelossplot import PlotLossesKeras\n",
        "\n",
        "import matplotlib.pyplot as plt\n",
        "\n",
        "import gensim\n",
        "from gensim.models import Word2Vec\n",
        "import warnings\n",
        "\n",
        "\n",
        "warnings.filterwarnings('ignore')\n",
        "nltk.download('stopwords')\n",
        "nltk.download('punkt')"
      ]
    },
    {
      "cell_type": "code",
      "source": [
        "try :\n",
        "    from google.colab import files\n",
        "    !wget https://archive.ics.uci.edu/ml/machine-learning-databases/00228/smsspamcollection.zip\n",
        "    !unzip smsspamcollection.zip\n",
        "    df = pd.read_csv('SMSSpamCollection', sep='\\t',  header=None, names=['target', 'text'])\n",
        "except ModuleNotFoundError :\n",
        "    url = 'https://archive.ics.uci.edu/ml/machine-learning-databases/00228/smsspamcollection.zip'\n",
        "    path = os.getcwd()+'\\Data'\n",
        "    wget.download(url,path)\n",
        "    temp=path+'\\smsspamcollection.zip'\n",
        "    file = ZipFile(temp)\n",
        "    file.extractall(path)\n",
        "    file.close()\n",
        "    df = pd.read_csv(path + '\\SMSSpamCollection', sep='\\t',  header=None, names=['target', 'text'])"
      ],
      "metadata": {
        "colab": {
          "base_uri": "https://localhost:8080/"
        },
        "id": "tFcc-R5lCDls",
        "outputId": "7bc53cd4-bc45-4671-db0a-648f6610e20d"
      },
      "execution_count": null,
      "outputs": [
        {
          "output_type": "stream",
          "name": "stdout",
          "text": [
            "--2023-08-26 04:09:23--  https://archive.ics.uci.edu/ml/machine-learning-databases/00228/smsspamcollection.zip\n",
            "Resolving archive.ics.uci.edu (archive.ics.uci.edu)... 128.195.10.252\n",
            "Connecting to archive.ics.uci.edu (archive.ics.uci.edu)|128.195.10.252|:443... connected.\n",
            "HTTP request sent, awaiting response... 200 OK\n",
            "Length: unspecified\n",
            "Saving to: ‘smsspamcollection.zip’\n",
            "\n",
            "smsspamcollection.z     [  <=>               ] 198.65K   980KB/s    in 0.2s    \n",
            "\n",
            "2023-08-26 04:09:24 (980 KB/s) - ‘smsspamcollection.zip’ saved [203415]\n",
            "\n",
            "Archive:  smsspamcollection.zip\n",
            "  inflating: SMSSpamCollection       \n",
            "  inflating: readme                  \n"
          ]
        }
      ]
    },
    {
      "cell_type": "code",
      "source": [
        "df.head()"
      ],
      "metadata": {
        "colab": {
          "base_uri": "https://localhost:8080/",
          "height": 206
        },
        "id": "nzj0OGd7CG5c",
        "outputId": "28ac0f97-761c-48e0-e355-a00a850eb6eb"
      },
      "execution_count": null,
      "outputs": [
        {
          "output_type": "execute_result",
          "data": {
            "text/plain": [
              "  target                                               text\n",
              "0    ham  Go until jurong point, crazy.. Available only ...\n",
              "1    ham                      Ok lar... Joking wif u oni...\n",
              "2   spam  Free entry in 2 a wkly comp to win FA Cup fina...\n",
              "3    ham  U dun say so early hor... U c already then say...\n",
              "4    ham  Nah I don't think he goes to usf, he lives aro..."
            ],
            "text/html": [
              "\n",
              "  <div id=\"df-e9f5aa84-c6ab-4cf2-844e-2b52f4e43df3\" class=\"colab-df-container\">\n",
              "    <div>\n",
              "<style scoped>\n",
              "    .dataframe tbody tr th:only-of-type {\n",
              "        vertical-align: middle;\n",
              "    }\n",
              "\n",
              "    .dataframe tbody tr th {\n",
              "        vertical-align: top;\n",
              "    }\n",
              "\n",
              "    .dataframe thead th {\n",
              "        text-align: right;\n",
              "    }\n",
              "</style>\n",
              "<table border=\"1\" class=\"dataframe\">\n",
              "  <thead>\n",
              "    <tr style=\"text-align: right;\">\n",
              "      <th></th>\n",
              "      <th>target</th>\n",
              "      <th>text</th>\n",
              "    </tr>\n",
              "  </thead>\n",
              "  <tbody>\n",
              "    <tr>\n",
              "      <th>0</th>\n",
              "      <td>ham</td>\n",
              "      <td>Go until jurong point, crazy.. Available only ...</td>\n",
              "    </tr>\n",
              "    <tr>\n",
              "      <th>1</th>\n",
              "      <td>ham</td>\n",
              "      <td>Ok lar... Joking wif u oni...</td>\n",
              "    </tr>\n",
              "    <tr>\n",
              "      <th>2</th>\n",
              "      <td>spam</td>\n",
              "      <td>Free entry in 2 a wkly comp to win FA Cup fina...</td>\n",
              "    </tr>\n",
              "    <tr>\n",
              "      <th>3</th>\n",
              "      <td>ham</td>\n",
              "      <td>U dun say so early hor... U c already then say...</td>\n",
              "    </tr>\n",
              "    <tr>\n",
              "      <th>4</th>\n",
              "      <td>ham</td>\n",
              "      <td>Nah I don't think he goes to usf, he lives aro...</td>\n",
              "    </tr>\n",
              "  </tbody>\n",
              "</table>\n",
              "</div>\n",
              "    <div class=\"colab-df-buttons\">\n",
              "\n",
              "  <div class=\"colab-df-container\">\n",
              "    <button class=\"colab-df-convert\" onclick=\"convertToInteractive('df-e9f5aa84-c6ab-4cf2-844e-2b52f4e43df3')\"\n",
              "            title=\"Convert this dataframe to an interactive table.\"\n",
              "            style=\"display:none;\">\n",
              "\n",
              "  <svg xmlns=\"http://www.w3.org/2000/svg\" height=\"24px\" viewBox=\"0 -960 960 960\">\n",
              "    <path d=\"M120-120v-720h720v720H120Zm60-500h600v-160H180v160Zm220 220h160v-160H400v160Zm0 220h160v-160H400v160ZM180-400h160v-160H180v160Zm440 0h160v-160H620v160ZM180-180h160v-160H180v160Zm440 0h160v-160H620v160Z\"/>\n",
              "  </svg>\n",
              "    </button>\n",
              "\n",
              "  <style>\n",
              "    .colab-df-container {\n",
              "      display:flex;\n",
              "      gap: 12px;\n",
              "    }\n",
              "\n",
              "    .colab-df-convert {\n",
              "      background-color: #E8F0FE;\n",
              "      border: none;\n",
              "      border-radius: 50%;\n",
              "      cursor: pointer;\n",
              "      display: none;\n",
              "      fill: #1967D2;\n",
              "      height: 32px;\n",
              "      padding: 0 0 0 0;\n",
              "      width: 32px;\n",
              "    }\n",
              "\n",
              "    .colab-df-convert:hover {\n",
              "      background-color: #E2EBFA;\n",
              "      box-shadow: 0px 1px 2px rgba(60, 64, 67, 0.3), 0px 1px 3px 1px rgba(60, 64, 67, 0.15);\n",
              "      fill: #174EA6;\n",
              "    }\n",
              "\n",
              "    .colab-df-buttons div {\n",
              "      margin-bottom: 4px;\n",
              "    }\n",
              "\n",
              "    [theme=dark] .colab-df-convert {\n",
              "      background-color: #3B4455;\n",
              "      fill: #D2E3FC;\n",
              "    }\n",
              "\n",
              "    [theme=dark] .colab-df-convert:hover {\n",
              "      background-color: #434B5C;\n",
              "      box-shadow: 0px 1px 3px 1px rgba(0, 0, 0, 0.15);\n",
              "      filter: drop-shadow(0px 1px 2px rgba(0, 0, 0, 0.3));\n",
              "      fill: #FFFFFF;\n",
              "    }\n",
              "  </style>\n",
              "\n",
              "    <script>\n",
              "      const buttonEl =\n",
              "        document.querySelector('#df-e9f5aa84-c6ab-4cf2-844e-2b52f4e43df3 button.colab-df-convert');\n",
              "      buttonEl.style.display =\n",
              "        google.colab.kernel.accessAllowed ? 'block' : 'none';\n",
              "\n",
              "      async function convertToInteractive(key) {\n",
              "        const element = document.querySelector('#df-e9f5aa84-c6ab-4cf2-844e-2b52f4e43df3');\n",
              "        const dataTable =\n",
              "          await google.colab.kernel.invokeFunction('convertToInteractive',\n",
              "                                                    [key], {});\n",
              "        if (!dataTable) return;\n",
              "\n",
              "        const docLinkHtml = 'Like what you see? Visit the ' +\n",
              "          '<a target=\"_blank\" href=https://colab.research.google.com/notebooks/data_table.ipynb>data table notebook</a>'\n",
              "          + ' to learn more about interactive tables.';\n",
              "        element.innerHTML = '';\n",
              "        dataTable['output_type'] = 'display_data';\n",
              "        await google.colab.output.renderOutput(dataTable, element);\n",
              "        const docLink = document.createElement('div');\n",
              "        docLink.innerHTML = docLinkHtml;\n",
              "        element.appendChild(docLink);\n",
              "      }\n",
              "    </script>\n",
              "  </div>\n",
              "\n",
              "\n",
              "<div id=\"df-1224d227-8a42-4cec-9dd9-43abf6c308cd\">\n",
              "  <button class=\"colab-df-quickchart\" onclick=\"quickchart('df-1224d227-8a42-4cec-9dd9-43abf6c308cd')\"\n",
              "            title=\"Suggest charts.\"\n",
              "            style=\"display:none;\">\n",
              "\n",
              "<svg xmlns=\"http://www.w3.org/2000/svg\" height=\"24px\"viewBox=\"0 0 24 24\"\n",
              "     width=\"24px\">\n",
              "    <g>\n",
              "        <path d=\"M19 3H5c-1.1 0-2 .9-2 2v14c0 1.1.9 2 2 2h14c1.1 0 2-.9 2-2V5c0-1.1-.9-2-2-2zM9 17H7v-7h2v7zm4 0h-2V7h2v10zm4 0h-2v-4h2v4z\"/>\n",
              "    </g>\n",
              "</svg>\n",
              "  </button>\n",
              "\n",
              "<style>\n",
              "  .colab-df-quickchart {\n",
              "    background-color: #E8F0FE;\n",
              "    border: none;\n",
              "    border-radius: 50%;\n",
              "    cursor: pointer;\n",
              "    display: none;\n",
              "    fill: #1967D2;\n",
              "    height: 32px;\n",
              "    padding: 0 0 0 0;\n",
              "    width: 32px;\n",
              "  }\n",
              "\n",
              "  .colab-df-quickchart:hover {\n",
              "    background-color: #E2EBFA;\n",
              "    box-shadow: 0px 1px 2px rgba(60, 64, 67, 0.3), 0px 1px 3px 1px rgba(60, 64, 67, 0.15);\n",
              "    fill: #174EA6;\n",
              "  }\n",
              "\n",
              "  [theme=dark] .colab-df-quickchart {\n",
              "    background-color: #3B4455;\n",
              "    fill: #D2E3FC;\n",
              "  }\n",
              "\n",
              "  [theme=dark] .colab-df-quickchart:hover {\n",
              "    background-color: #434B5C;\n",
              "    box-shadow: 0px 1px 3px 1px rgba(0, 0, 0, 0.15);\n",
              "    filter: drop-shadow(0px 1px 2px rgba(0, 0, 0, 0.3));\n",
              "    fill: #FFFFFF;\n",
              "  }\n",
              "</style>\n",
              "\n",
              "  <script>\n",
              "    async function quickchart(key) {\n",
              "      const charts = await google.colab.kernel.invokeFunction(\n",
              "          'suggestCharts', [key], {});\n",
              "    }\n",
              "    (() => {\n",
              "      let quickchartButtonEl =\n",
              "        document.querySelector('#df-1224d227-8a42-4cec-9dd9-43abf6c308cd button');\n",
              "      quickchartButtonEl.style.display =\n",
              "        google.colab.kernel.accessAllowed ? 'block' : 'none';\n",
              "    })();\n",
              "  </script>\n",
              "</div>\n",
              "    </div>\n",
              "  </div>\n"
            ]
          },
          "metadata": {},
          "execution_count": 6
        }
      ]
    },
    {
      "cell_type": "code",
      "source": [
        "X = df['text']\n",
        "y = df['target'].map({'ham':0, 'spam':1})"
      ],
      "metadata": {
        "id": "j7VVOkW2CJ_r"
      },
      "execution_count": null,
      "outputs": []
    },
    {
      "cell_type": "code",
      "source": [
        "stop_words = set(stopwords.words('english'))\n",
        "def preprocess(text):\n",
        "    text = text.lower()\n",
        "    text = ''.join([word for word in text if word not in string.punctuation])\n",
        "    tokens = word_tokenize(text)\n",
        "    tokens = [word for word in tokens if word not in stop_words]\n",
        "    return ' '.join(tokens)\n",
        "\n",
        "X = X.apply(preprocess)"
      ],
      "metadata": {
        "id": "kpCqQl2RCMFI"
      },
      "execution_count": null,
      "outputs": []
    },
    {
      "cell_type": "markdown",
      "source": [
        "### Create vocabulary"
      ],
      "metadata": {
        "id": "phY6T8jGCX9d"
      }
    },
    {
      "cell_type": "code",
      "source": [
        "X = X.tolist()"
      ],
      "metadata": {
        "id": "p1g816l-CPXT"
      },
      "execution_count": null,
      "outputs": []
    },
    {
      "cell_type": "code",
      "source": [
        "# For vocabulary only the intersec characters is used to avoid issues with data collection\n",
        "voc = set(''.join(X))\n",
        "vocabulary = {x: idx + 1 for idx, x in enumerate(set(voc))}"
      ],
      "metadata": {
        "id": "GaxWdNPtCTIR"
      },
      "execution_count": null,
      "outputs": []
    },
    {
      "cell_type": "markdown",
      "source": [
        "### Create Embedding"
      ],
      "metadata": {
        "id": "pCKDa9HaCdSO"
      }
    },
    {
      "cell_type": "code",
      "source": [
        "# Max len\n",
        "max_len = 150\n",
        "X = [x[:max_len] for x in X]\n",
        "# Convert characters to int and pad\n",
        "X = [[vocabulary[x1] for x1 in x if x1 in vocabulary.keys()] for x in X]"
      ],
      "metadata": {
        "id": "PhcqO5PtCfqq"
      },
      "execution_count": null,
      "outputs": []
    },
    {
      "cell_type": "code",
      "source": [
        "len(X)"
      ],
      "metadata": {
        "colab": {
          "base_uri": "https://localhost:8080/"
        },
        "id": "wYeYmDkTChoh",
        "outputId": "6a8224b6-b41d-44c7-b2c5-6f5129996c8d"
      },
      "execution_count": null,
      "outputs": [
        {
          "output_type": "execute_result",
          "data": {
            "text/plain": [
              "5572"
            ]
          },
          "metadata": {},
          "execution_count": 12
        }
      ]
    },
    {
      "cell_type": "code",
      "source": [
        "X_pad = pad_sequences(X, maxlen=max_len)"
      ],
      "metadata": {
        "id": "Nxqey13ECkC0"
      },
      "execution_count": null,
      "outputs": []
    },
    {
      "cell_type": "code",
      "source": [
        "X_pad"
      ],
      "metadata": {
        "colab": {
          "base_uri": "https://localhost:8080/"
        },
        "id": "GEp0fpcYCoX0",
        "outputId": "81dee43b-a693-4159-cbed-79364f1e2e5e"
      },
      "execution_count": null,
      "outputs": [
        {
          "output_type": "execute_result",
          "data": {
            "text/plain": [
              "array([[ 0,  0,  0, ..., 24, 22, 37],\n",
              "       [ 0,  0,  0, ..., 43,  2, 26],\n",
              "       [ 0,  0,  0, ..., 33,  3, 11],\n",
              "       ...,\n",
              "       [ 0,  0,  0, ..., 43,  2, 11],\n",
              "       [ 0,  0,  0, ...,  4,  5,  5],\n",
              "       [ 0,  0,  0, ..., 22, 17,  5]], dtype=int32)"
            ]
          },
          "metadata": {},
          "execution_count": 14
        }
      ]
    },
    {
      "cell_type": "code",
      "execution_count": null,
      "metadata": {
        "id": "tuYQvBQG2Iax"
      },
      "outputs": [],
      "source": [
        "# split data into training and validation set\n",
        "X_train, X_test, y_train, y_test = train_test_split(X_pad, y, stratify = df['target'], test_size = 0.3, random_state = 18)"
      ]
    },
    {
      "cell_type": "markdown",
      "metadata": {
        "id": "EBbL4U5X2Iax"
      },
      "source": [
        "---"
      ]
    },
    {
      "cell_type": "markdown",
      "metadata": {
        "id": "uxD6ufAg2Iax"
      },
      "source": [
        "# Using Keras"
      ]
    },
    {
      "cell_type": "code",
      "execution_count": null,
      "metadata": {
        "id": "lUjXB-CW2Iay"
      },
      "outputs": [],
      "source": [
        "learning_rate = 0.01"
      ]
    },
    {
      "cell_type": "code",
      "execution_count": null,
      "metadata": {
        "colab": {
          "base_uri": "https://localhost:8080/"
        },
        "id": "MxyPALNq2Iay",
        "outputId": "e934edb2-601c-4bfe-c00b-8bbe111322cb"
      },
      "outputs": [
        {
          "output_type": "stream",
          "name": "stdout",
          "text": [
            "Model: \"sequential_1\"\n",
            "_________________________________________________________________\n",
            " Layer (type)                Output Shape              Param #   \n",
            "=================================================================\n",
            " embedding_1 (Embedding)     (None, 150, 128)          7680      \n",
            "                                                                 \n",
            " dense_1 (Dense)             (None, 150, 1)            129       \n",
            "                                                                 \n",
            "=================================================================\n",
            "Total params: 7,809\n",
            "Trainable params: 7,809\n",
            "Non-trainable params: 0\n",
            "_________________________________________________________________\n"
          ]
        }
      ],
      "source": [
        "model = Sequential()\n",
        "model.add(Embedding(len(vocabulary) + 1, 128, input_length=max_len))\n",
        "model.add(Dense(1, activation='sigmoid'))\n",
        "model.compile(loss='binary_crossentropy', optimizer='SGD', metrics=['accuracy'])\n",
        "\n",
        "model.summary()"
      ]
    },
    {
      "cell_type": "markdown",
      "metadata": {
        "id": "YsZzzOCw2Iay"
      },
      "source": [
        "### Be more specific with hyperparameters..."
      ]
    },
    {
      "cell_type": "code",
      "execution_count": null,
      "metadata": {
        "colab": {
          "base_uri": "https://localhost:8080/",
          "height": 946
        },
        "id": "h-E52-di2Iaz",
        "outputId": "a4f6a631-7f2a-4329-f8c6-cedc09347bd3"
      },
      "outputs": [
        {
          "output_type": "display_data",
          "data": {
            "text/plain": [
              "<Figure size 1200x800 with 2 Axes>"
            ],
            "image/png": "[encoded data removed]"
          },
          "metadata": {}
        },
        {
          "output_type": "stream",
          "name": "stdout",
          "text": [
            "accuracy\n",
            "\ttraining         \t (min:    0.834, max:    0.866, cur:    0.866)\n",
            "\tvalidation       \t (min:    0.866, max:    0.868, cur:    0.866)\n",
            "Loss\n",
            "\ttraining         \t (min:    0.392, max:    0.652, cur:    0.392)\n",
            "\tvalidation       \t (min:    0.387, max:    0.611, cur:    0.387)\n",
            "\b\b\b\b\b\b\b\b\b\b\b\b\b\b\b\b\b\b\b\b\b\b\b\b\b\b\b\b\b\b\b\b\b\b\b\b\b\b\b\b\b\b\b\b\b\b\b\b\b\b\b\b\b\b\b\b\b\b\b\b\b\b\b\b\b\b\b\b\b\b\b\b\b\b\b\b\b\b\b\b\b\b\r31/31 [==============================] - 1s 35ms/step - loss: 0.3919 - accuracy: 0.8659 - val_loss: 0.3873 - val_accuracy: 0.8660\n"
          ]
        },
        {
          "output_type": "execute_result",
          "data": {
            "text/plain": [
              "<keras.callbacks.History at 0x7c696a7399f0>"
            ]
          },
          "metadata": {},
          "execution_count": 29
        }
      ],
      "source": [
        "import keras.optimizers as opts\n",
        "\n",
        "K.clear_session()\n",
        "\n",
        "model = Sequential()\n",
        "model.add(Embedding(len(vocabulary) + 1, 128, input_length=max_len))\n",
        "model.add(Dense(1, activation='sigmoid'))\n",
        "\n",
        "op = opts.SGD(lr=learning_rate)\n",
        "\n",
        "model.compile(loss='binary_crossentropy', optimizer=op, metrics=['accuracy'])\n",
        "\n",
        "model.summary()\n",
        "\n",
        "model.fit(X_train, y_train, validation_data=[X_test, y_test],\n",
        "          batch_size=128, epochs=10, verbose=1,\n",
        "          callbacks=[PlotLossesKeras()])"
      ]
    },
    {
      "cell_type": "markdown",
      "metadata": {
        "id": "DR4SUTN82Iaz"
      },
      "source": [
        "Simplicity is pretty impressive right? :)"
      ]
    },
    {
      "cell_type": "markdown",
      "metadata": {
        "id": "vHyIEkBb2Iaz"
      },
      "source": [
        "Now lets understand:\n",
        "<pre>The core data structure of Keras is a <b>model</b>, a way to organize layers. The main type of model is the <b>Sequential</b> model, a linear stack of layers.</pre>\n"
      ]
    },
    {
      "cell_type": "markdown",
      "metadata": {
        "id": "OhPgD-yG2Ia0"
      },
      "source": [
        "What we did here is stacking a Fully Connected (<b>Dense</b>) layer of trainable weights from the input to the output and an <b>Activation</b> layer on top of the weights layer."
      ]
    },
    {
      "cell_type": "markdown",
      "metadata": {
        "id": "29aVt7pV2Ia0"
      },
      "source": [
        "##### Dense"
      ]
    },
    {
      "cell_type": "markdown",
      "metadata": {
        "id": "GJw0Fm0d2Ia0"
      },
      "source": [
        "```python\n",
        "from keras.layers.core import Dense\n",
        "\n",
        "Dense(units, activation=None, use_bias=True,\n",
        "      kernel_initializer='glorot_uniform', bias_initializer='zeros',\n",
        "      kernel_regularizer=None, bias_regularizer=None,\n",
        "      activity_regularizer=None, kernel_constraint=None, bias_constraint=None)\n",
        "```"
      ]
    },
    {
      "cell_type": "markdown",
      "metadata": {
        "id": "wA3VChxI2Ia0"
      },
      "source": [
        "* `units`: int > 0.\n",
        "\n",
        "* `init`: name of initialization function for the weights of the layer (see initializations), or alternatively, Theano function to use for weights initialization. This parameter is only relevant if you don't pass a weights argument.\n",
        "\n",
        "* `activation`: name of activation function to use (see activations), or alternatively, elementwise Theano function. If you don't specify anything, no activation is applied (ie. \"linear\" activation: a(x) = x).\n",
        "\n",
        "* `weights`: list of Numpy arrays to set as initial weights. The list should have 2 elements, of shape (input_dim, output_dim) and (output_dim,) for weights and biases respectively.\n",
        "\n",
        "* `kernel_regularizer`: instance of WeightRegularizer (eg. L1 or L2 regularization), applied to the main weights matrix.\n",
        "\n",
        "* `bias_regularizer`: instance of WeightRegularizer, applied to the bias.\n",
        "\n",
        "* `activity_regularizer`: instance of ActivityRegularizer, applied to the network output.\n",
        "\n",
        "* `kernel_constraint`: instance of the constraints module (eg. maxnorm, nonneg), applied to the main weights matrix.\n",
        "\n",
        "* `bias_constraint`: instance of the constraints module, applied to the bias.\n",
        "\n",
        "* `use_bias`: whether to include a bias (i.e. make the layer affine rather than linear)."
      ]
    },
    {
      "cell_type": "markdown",
      "metadata": {
        "id": "ghoJDShB2Ia0"
      },
      "source": [
        "## (some) others `keras.core.layers`"
      ]
    },
    {
      "cell_type": "markdown",
      "metadata": {
        "id": "rXV8PLNS2Ia0"
      },
      "source": [
        "* `keras.layers.core.Flatten()`\n",
        "* `keras.layers.core.Reshape(target_shape)`\n",
        "* `keras.layers.core.Permute(dims)`\n",
        "\n",
        "```python\n",
        "model = Sequential()\n",
        "model.add(Permute((2, 1), input_shape=(10, 64)))\n",
        "# now: model.output_shape == (None, 64, 10)\n",
        "# note: `None` is the batch dimension\n",
        "```\n",
        "\n",
        "* `keras.layers.core.Lambda(function, output_shape=None, arguments=None)`\n",
        "* `keras.layers.core.ActivityRegularization(l1=0.0, l2=0.0)`"
      ]
    },
    {
      "cell_type": "markdown",
      "metadata": {
        "id": "h5jYJpw92Ia1"
      },
      "source": [
        "<img src=\"https://raw.githubusercontent.com/sergiomora03/AdvancedMethodsDataAnalysisClass/68b4cc50f2cba5e389d7fa75afe7a5e658c38086/notebooks/images/dl_overview.png\" >\n",
        "\n",
        "Credits: Yam Peleg ([@Yampeleg](https://twitter.com/yampeleg))"
      ]
    },
    {
      "cell_type": "markdown",
      "metadata": {
        "id": "4l4z5Djd2Ia1"
      },
      "source": [
        "##### Activation"
      ]
    },
    {
      "cell_type": "markdown",
      "metadata": {
        "id": "kP8C-qch2Ia1"
      },
      "source": [
        "```python\n",
        "from keras.layers.core import Activation\n",
        "\n",
        "Activation(activation)\n",
        "```"
      ]
    },
    {
      "cell_type": "markdown",
      "metadata": {
        "id": "aDLgCNXU2Ia1"
      },
      "source": [
        "**Supported Activations** : [https://keras.io/activations/]\n",
        "\n",
        "**Advanced Activations**: [https://keras.io/layers/advanced-activations/]"
      ]
    },
    {
      "cell_type": "markdown",
      "metadata": {
        "id": "89EgqUIs2Ia1"
      },
      "source": [
        "##### Optimizer"
      ]
    },
    {
      "cell_type": "markdown",
      "metadata": {
        "id": "l7i3e7qP2Ia1"
      },
      "source": [
        "If you need to, you can further configure your optimizer. A core principle of Keras is to make things reasonably simple, while allowing the user to be fully in control when they need to (the ultimate control being the easy extensibility of the source code).\n",
        "Here we used <b>SGD</b> (stochastic gradient descent) as an optimization algorithm for our trainable weights.  "
      ]
    },
    {
      "cell_type": "markdown",
      "metadata": {
        "id": "OVfqYHkV2Ia1"
      },
      "source": [
        "<img src=\"http://sebastianruder.com/content/images/2016/09/saddle_point_evaluation_optimizers.gif\" width=\"40%\">\n",
        "\n",
        "Source & Reference: http://sebastianruder.com/content/images/2016/09/saddle_point_evaluation_optimizers.gif"
      ]
    },
    {
      "cell_type": "markdown",
      "metadata": {
        "id": "LJ2Iv5yi2Ia2"
      },
      "source": [
        "\"Data Sciencing\" this example a little bit more\n",
        "====="
      ]
    },
    {
      "cell_type": "markdown",
      "metadata": {
        "id": "HDsrhhMZ2Ia2"
      },
      "source": [
        "What we did here is nice, however in the real world it is not useable because of overfitting.\n",
        "Lets try and solve it with cross validation."
      ]
    },
    {
      "cell_type": "markdown",
      "metadata": {
        "id": "QeEeg8p22Ia2"
      },
      "source": [
        "##### Overfitting"
      ]
    },
    {
      "cell_type": "markdown",
      "metadata": {
        "id": "zAXSMI4w2Ia2"
      },
      "source": [
        "In overfitting, a statistical model describes random error or noise instead of the underlying relationship. Overfitting occurs when a model is excessively complex, such as having too many parameters relative to the number of observations.\n",
        "\n",
        "A model that has been overfit has poor predictive performance, as it overreacts to minor fluctuations in the training data."
      ]
    },
    {
      "cell_type": "markdown",
      "metadata": {
        "id": "39gurlLI2Ia3"
      },
      "source": [
        "\n",
        "<img src=\"https://raw.githubusercontent.com/leriomaggio/deep-learning-keras-tensorflow/master/imgs/overfitting.png\">"
      ]
    },
    {
      "cell_type": "markdown",
      "metadata": {
        "id": "FSG0oZyh2Ia3"
      },
      "source": [
        "<pre>To avoid overfitting, we will first split out data to training set and test set and test out model on the test set.\n",
        "Next: we will use two of keras's callbacks <b>EarlyStopping</b> and <b>ModelCheckpoint</b></pre>"
      ]
    },
    {
      "cell_type": "markdown",
      "metadata": {
        "id": "R4JcxMCN2Ia3"
      },
      "source": [
        "---"
      ]
    },
    {
      "cell_type": "markdown",
      "metadata": {
        "id": "EV4iklBV2Ia4"
      },
      "source": [
        "Let's see first the model we implemented"
      ]
    },
    {
      "cell_type": "code",
      "execution_count": null,
      "metadata": {
        "colab": {
          "base_uri": "https://localhost:8080/"
        },
        "id": "J_ojjFaS2Ia4",
        "outputId": "4a6dfaa4-a168-4426-c9c9-0bdfa653f5ea"
      },
      "outputs": [
        {
          "output_type": "stream",
          "name": "stdout",
          "text": [
            "Model: \"sequential\"\n",
            "_________________________________________________________________\n",
            " Layer (type)                Output Shape              Param #   \n",
            "=================================================================\n",
            " embedding (Embedding)       (None, 150, 128)          7680      \n",
            "                                                                 \n",
            " dense (Dense)               (None, 150, 1)            129       \n",
            "                                                                 \n",
            "=================================================================\n",
            "Total params: 7,809\n",
            "Trainable params: 7,809\n",
            "Non-trainable params: 0\n",
            "_________________________________________________________________\n"
          ]
        }
      ],
      "source": [
        "model.summary()"
      ]
    },
    {
      "cell_type": "code",
      "execution_count": null,
      "metadata": {
        "id": "53fAo3vB2Ia4"
      },
      "outputs": [],
      "source": [
        "from keras.callbacks import EarlyStopping, ModelCheckpoint"
      ]
    },
    {
      "cell_type": "code",
      "execution_count": null,
      "metadata": {
        "colab": {
          "base_uri": "https://localhost:8080/",
          "height": 963
        },
        "id": "iTSwG16T2Ia4",
        "outputId": "34bfc9e1-d3c4-4d98-f98d-378eeec256cc"
      },
      "outputs": [
        {
          "output_type": "display_data",
          "data": {
            "text/plain": [
              "<Figure size 1200x800 with 2 Axes>"
            ],
            "image/png": "[encoded data removed]"
          },
          "metadata": {}
        },
        {
          "output_type": "stream",
          "name": "stdout",
          "text": [
            "accuracy\n",
            "\ttraining         \t (min:    0.868, max:    0.868, cur:    0.868)\n",
            "\tvalidation       \t (min:    0.851, max:    0.851, cur:    0.851)\n",
            "Loss\n",
            "\ttraining         \t (min:    0.347, max:    0.382, cur:    0.347)\n",
            "\tvalidation       \t (min:    0.384, max:    0.405, cur:    0.384)\n",
            "\b\b\b\b\b\b\b\b\b\b\b\b\b\b\b\b\b\b\b\b\b\b\b\b\b\b\b\b\b\b\b\b\b\b\b\b\b\b\b\b\b\b\b\b\b\b\b\b\b\b\b\b\b\b\b\b\b\b\b\b\b\b\b\b\b\b\b\b\b\b\b\b\b\b\b\b\b\b\b\b\b\b\r26/26 [==============================] - 1s 58ms/step - loss: 0.3468 - accuracy: 0.8685 - val_loss: 0.3837 - val_accuracy: 0.8513\n",
            "Epoch 24: early stopping\n"
          ]
        },
        {
          "output_type": "execute_result",
          "data": {
            "text/plain": [
              "<keras.callbacks.History at 0x7c6973c281f0>"
            ]
          },
          "metadata": {},
          "execution_count": 32
        }
      ],
      "source": [
        "X_train, X_val, Y_train, Y_val = train_test_split(X_train, y_train, test_size=0.15, random_state=42)\n",
        "\n",
        "fBestModel = 'best_model.h5'\n",
        "early_stop = EarlyStopping(monitor='val_loss', patience=2, verbose=1)\n",
        "best_model = ModelCheckpoint(fBestModel, verbose=0, save_best_only=True)\n",
        "\n",
        "model.fit(X_train, Y_train, validation_data = (X_val, Y_val), epochs=50,\n",
        "          batch_size=128, verbose=True, callbacks=[best_model, early_stop, PlotLossesKeras()])"
      ]
    },
    {
      "cell_type": "markdown",
      "metadata": {
        "id": "oe8hrDcO2Ia5"
      },
      "source": [
        "# Multi-Layer Fully Connected Networks"
      ]
    },
    {
      "cell_type": "markdown",
      "metadata": {
        "id": "nbfwZ7612Ia5"
      },
      "source": [
        "<img src=\"https://raw.githubusercontent.com/sergiomora03/AdvancedMethodsDataAnalysisClass/68b4cc50f2cba5e389d7fa75afe7a5e658c38086/notebooks/images/MLP.png\" width=\"65%\">"
      ]
    },
    {
      "cell_type": "markdown",
      "metadata": {
        "id": "yG0egsKo2Ia5"
      },
      "source": [
        "#### Forward and Backward Propagation"
      ]
    },
    {
      "cell_type": "markdown",
      "metadata": {
        "id": "WD4Lk9Nc2Ia5"
      },
      "source": [
        "<img src=\"https://raw.githubusercontent.com/sergiomora03/AdvancedMethodsDataAnalysisClass/68b4cc50f2cba5e389d7fa75afe7a5e658c38086/notebooks/images/backprop.png\" width=\"80%\">"
      ]
    },
    {
      "cell_type": "markdown",
      "metadata": {
        "id": "rOIIRmFE2Ia5"
      },
      "source": [
        "**Q:** _How hard can it be to build a Multi-Layer Fully-Connected Network with keras?_\n",
        "\n",
        "**A:** _It is basically the same, just add more layers!_"
      ]
    },
    {
      "cell_type": "code",
      "execution_count": null,
      "metadata": {
        "colab": {
          "base_uri": "https://localhost:8080/"
        },
        "id": "s4h4NLsT2Ia6",
        "outputId": "4856e567-e462-44de-b6c6-4fd5aceb7073"
      },
      "outputs": [
        {
          "output_type": "stream",
          "name": "stdout",
          "text": [
            "Building model...\n",
            "Model: \"sequential\"\n",
            "_________________________________________________________________\n",
            " Layer (type)                Output Shape              Param #   \n",
            "=================================================================\n",
            " embedding (Embedding)       (None, 150, 128)          7680      \n",
            "                                                                 \n",
            " dense (Dense)               (None, 150, 256)          33024     \n",
            "                                                                 \n",
            " dense_1 (Dense)             (None, 150, 128)          32896     \n",
            "                                                                 \n",
            " dense_2 (Dense)             (None, 150, 64)           8256      \n",
            "                                                                 \n",
            " dense_3 (Dense)             (None, 150, 1)            65        \n",
            "                                                                 \n",
            "=================================================================\n",
            "Total params: 81,921\n",
            "Trainable params: 81,921\n",
            "Non-trainable params: 0\n",
            "_________________________________________________________________\n"
          ]
        }
      ],
      "source": [
        "K.clear_session()\n",
        "print(\"Building model...\")\n",
        "model = Sequential()\n",
        "model.add(Embedding(len(vocabulary) + 1, 128, input_length=max_len))\n",
        "model.add(Dense(256,activation='relu'))\n",
        "model.add(Dense(128,activation='relu'))\n",
        "model.add(Dense(64,activation='relu'))\n",
        "model.add(Dense(1, activation='sigmoid'))\n",
        "model.compile(loss='binary_crossentropy', optimizer='SGD', metrics=['accuracy'])\n",
        "model.summary()"
      ]
    },
    {
      "cell_type": "code",
      "execution_count": null,
      "metadata": {
        "colab": {
          "base_uri": "https://localhost:8080/",
          "height": 946
        },
        "id": "S7siPofl2Ia6",
        "outputId": "42f9b7a7-9550-4187-f109-e9d81d90f13f"
      },
      "outputs": [
        {
          "output_type": "display_data",
          "data": {
            "text/plain": [
              "<Figure size 1200x800 with 2 Axes>"
            ],
            "image/png": "[encoded data removed]"
          },
          "metadata": {}
        },
        {
          "output_type": "stream",
          "name": "stdout",
          "text": [
            "accuracy\n",
            "\ttraining         \t (min:    0.868, max:    0.868, cur:    0.868)\n",
            "\tvalidation       \t (min:    0.851, max:    0.851, cur:    0.851)\n",
            "Loss\n",
            "\ttraining         \t (min:    0.341, max:    0.567, cur:    0.341)\n",
            "\tvalidation       \t (min:    0.381, max:    0.489, cur:    0.381)\n",
            "\b\b\b\b\b\b\b\b\b\b\b\b\b\b\b\b\b\b\b\b\b\b\b\b\b\b\b\b\b\b\b\b\b\b\b\b\b\b\b\b\b\b\b\b\b\b\b\b\b\b\b\b\b\b\b\b\b\b\b\b\b\b\b\b\b\b\b\b\b\b\b\b\b\b\b\b\b\b\b\b\b\b\b\b\r104/104 [==============================] - 8s 80ms/step - loss: 0.3410 - accuracy: 0.8685 - val_loss: 0.3808 - val_accuracy: 0.8513\n"
          ]
        },
        {
          "output_type": "execute_result",
          "data": {
            "text/plain": [
              "<keras.callbacks.History at 0x7c696157be20>"
            ]
          },
          "metadata": {},
          "execution_count": 35
        }
      ],
      "source": [
        "model.fit(X_train, Y_train,\n",
        "          validation_data = (X_val, Y_val),\n",
        "          epochs=50,\n",
        "          callbacks=[PlotLossesKeras()])"
      ]
    },
    {
      "cell_type": "markdown",
      "metadata": {
        "id": "8spsy6sS2Ia6"
      },
      "source": [
        "What does the cost function behavior mean over the traning in the above plot?"
      ]
    },
    {
      "cell_type": "markdown",
      "metadata": {
        "id": "wLLT3fx-2Ia7"
      },
      "source": [
        "---"
      ]
    },
    {
      "cell_type": "markdown",
      "metadata": {
        "id": "FlbQBBrW2Ia7"
      },
      "source": [
        "# Your Turn!"
      ]
    },
    {
      "cell_type": "markdown",
      "metadata": {
        "id": "RUijxZl42Ia7"
      },
      "source": [
        "## Hands On - Keras Fully Connected\n"
      ]
    },
    {
      "cell_type": "markdown",
      "metadata": {
        "id": "E0iTFOge2Ia7"
      },
      "source": [
        "Take couple of minutes and try to play with the number of layers and the number of parameters in the layers to get the best results."
      ]
    },
    {
      "cell_type": "code",
      "execution_count": null,
      "metadata": {
        "id": "nD8csjOl2Ia7"
      },
      "outputs": [],
      "source": [
        "K.clear_session()\n",
        "print(\"Building model...\")\n",
        "model = Sequential()\n",
        "model.add(Embedding(len(vocabulary) + 1, 128, input_length=max_len))\n",
        "\n",
        "# ...\n",
        "# ...\n",
        "# Play with it! add as much layers as you want! try and get better results.\n",
        "\n",
        "model.add(Dense(1, activation='sigmoid'))\n",
        "model.compile(loss='binary_crossentropy', optimizer='SGD', metrics=['accuracy'])\n",
        "model.summary()\n"
      ]
    },
    {
      "cell_type": "code",
      "execution_count": null,
      "metadata": {
        "id": "mD-6UjAd2Ia7"
      },
      "outputs": [],
      "source": [
        "model.fit(X_train, Y_train,\n",
        "          validation_data = (X_val, Y_val),\n",
        "          epochs=50,\n",
        "          callbacks=[PlotLossesKeras()])"
      ]
    }
  ],
  "metadata": {
    "kernelspec": {
      "display_name": "Python 3",
      "language": "python",
      "name": "python3"
    },
    "language_info": {
      "codemirror_mode": {
        "name": "ipython",
        "version": 3
      },
      "file_extension": ".py",
      "mimetype": "text/x-python",
      "name": "python",
      "nbconvert_exporter": "python",
      "pygments_lexer": "ipython3",
      "version": "3.7.4"
    },
    "colab": {
      "provenance": [],
      "include_colab_link": true
    }
  },
  "nbformat": 4,
  "nbformat_minor": 0
}